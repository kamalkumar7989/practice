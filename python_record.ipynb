{
  "nbformat": 4,
  "nbformat_minor": 5,
  "metadata": {
    "colab": {
      "name": "python record.ipynb",
      "provenance": []
    },
    "kernelspec": {
      "display_name": "Python 3",
      "language": "python",
      "name": "python3"
    },
    "language_info": {
      "codemirror_mode": {
        "name": "ipython",
        "version": 3
      },
      "file_extension": ".py",
      "mimetype": "text/x-python",
      "name": "python",
      "nbconvert_exporter": "python",
      "pygments_lexer": "ipython3",
      "version": "3.8.8"
    }
  },
  "cells": [
    {
      "cell_type": "markdown",
      "metadata": {
        "id": "vTlLBnRmtzQr"
      },
      "source": [
        "Name : T. Kamal Kumar"
      ],
      "id": "vTlLBnRmtzQr"
    },
    {
      "cell_type": "markdown",
      "metadata": {
        "id": "5XWi8Ufbt7Ki"
      },
      "source": [
        "Roll No : 19911A3551"
      ],
      "id": "5XWi8Ufbt7Ki"
    },
    {
      "cell_type": "markdown",
      "metadata": {
        "id": "7c536faf"
      },
      "source": [
        "# Exercise 1"
      ],
      "id": "7c536faf"
    },
    {
      "cell_type": "code",
      "metadata": {
        "colab": {
          "base_uri": "https://localhost:8080/"
        },
        "id": "23f2585d",
        "outputId": "e58ae9a3-d942-4e0a-f8b5-95dd188eb2b7"
      },
      "source": [
        "a = 5\n",
        "print(\"Type of a: \", type(a))\n",
        "b = 5.0\n",
        "print(\"\\nType of b: \", type(b))\n",
        "c = 2 + 4j\n",
        "print(\"\\nType of c: \", type(c))\n",
        "String = 'Welcome to the world'\n",
        "print(\"/nType of string: \",type(String))\n",
        "List = [\"AI\", \"ML\", \"DL\"]\n",
        "print(type(List))\n",
        "Tuple = ('AI', 'ML')\n",
        "print(type(True))\n",
        "set1 = set([1, 2, 'AI', 4, 'ML', 6, 'DL'])\n",
        "print(type(set1))\n",
        "Dict = {1: 'AI', 2: 'ML', 3: 'DL'}\n",
        "print(type(Dict))"
      ],
      "id": "23f2585d",
      "execution_count": null,
      "outputs": [
        {
          "output_type": "stream",
          "text": [
            "Type of a:  <class 'int'>\n",
            "\n",
            "Type of b:  <class 'float'>\n",
            "\n",
            "Type of c:  <class 'complex'>\n",
            "/nType of string:  <class 'str'>\n",
            "<class 'list'>\n",
            "<class 'bool'>\n",
            "<class 'set'>\n",
            "<class 'dict'>\n"
          ],
          "name": "stdout"
        }
      ]
    },
    {
      "cell_type": "code",
      "metadata": {
        "id": "3a21570d",
        "outputId": "3014f9ae-49a4-4285-9210-0ba55ee397ae"
      },
      "source": [
        "a=23              ##Arithmetic Operators\n",
        "b=4\n",
        "print(\"Sum : \",a+b)\n",
        "print(\"Diffrence : \",a-b)\n",
        "print(\"Divison : \",a/b)\n",
        "print(\"Multiplication : \",a*b)\n",
        "print(\"Exponent : \",a**b)\n",
        "print(\"Floor Division : \",a//b)"
      ],
      "id": "3a21570d",
      "execution_count": null,
      "outputs": [
        {
          "output_type": "stream",
          "text": [
            "Sum :  27\n",
            "Diffrence :  19\n",
            "Divison :  5.75\n",
            "Multiplication :  92\n",
            "Exponent :  279841\n",
            "Floor Division :  5\n"
          ],
          "name": "stdout"
        }
      ]
    },
    {
      "cell_type": "code",
      "metadata": {
        "id": "90979c05",
        "outputId": "70cfa2d0-2a08-40dc-d555-a82235700f58"
      },
      "source": [
        "a = False        #Logical Operators\n",
        "b = True\n",
        "\n",
        "#Logical AND\n",
        "print(\"a and b: \",a and b)\n",
        "#Logical OR\n",
        "print(\"a or b: \",a or b)\n",
        "#Logical\n",
        "print(\"not a: \",not a)\n",
        "print(\"not b: \",not b)"
      ],
      "id": "90979c05",
      "execution_count": null,
      "outputs": [
        {
          "output_type": "stream",
          "text": [
            "a and b:  False\n",
            "a or b:  True\n",
            "not a:  True\n",
            "not b:  False\n"
          ],
          "name": "stdout"
        }
      ]
    },
    {
      "cell_type": "code",
      "metadata": {
        "id": "d037061c",
        "outputId": "7d7b4f9f-76d6-4185-9870-d57e940ae294"
      },
      "source": [
        "a = 3256000000          #Comparision operator\n",
        "b = 2000\n",
        "print(a==b)\n",
        "print(a!=b)\n",
        "print(a>b)\n",
        "print(a<b)\n",
        "print(a>=b)\n",
        "print(a<=b)"
      ],
      "id": "d037061c",
      "execution_count": null,
      "outputs": [
        {
          "output_type": "stream",
          "text": [
            "False\n",
            "True\n",
            "True\n",
            "False\n",
            "True\n",
            "False\n"
          ],
          "name": "stdout"
        }
      ]
    },
    {
      "cell_type": "code",
      "metadata": {
        "id": "21e63ec9",
        "outputId": "ef697e99-f349-4d9f-88a2-67a6774b57b1"
      },
      "source": [
        "list_a = [10, 20, 30, 40]                 #membership operator\n",
        "\n",
        "print(\"20 in list_a: \", 20 in list_a)\n",
        "print(\"200 in list_a: \", 200 in list_a)\n",
        "\n",
        "print(\"11 in list_a: \", 11 not in list_a)\n",
        "print(\"20 in list_a: \", 20 not in list_a)"
      ],
      "id": "21e63ec9",
      "execution_count": null,
      "outputs": [
        {
          "output_type": "stream",
          "text": [
            "20 in list_a:  True\n",
            "200 in list_a:  False\n",
            "11 in list_a:  True\n",
            "20 in list_a:  False\n"
          ],
          "name": "stdout"
        }
      ]
    },
    {
      "cell_type": "code",
      "metadata": {
        "id": "554ca6dc",
        "outputId": "fce9e372-77d4-4eb9-f86c-489737c625c3"
      },
      "source": [
        "a = 200000         #bitwise operator\n",
        "b = 4\n",
        "#Bitwise and\n",
        "print(a&b)\n",
        "#Bitwise or\n",
        "print(a|b)\n",
        "#Bitwise XOR\n",
        "print(a^b)\n",
        "#Bitwise Not\n",
        "print(~a)\n",
        "#Left shift\n",
        "print(a<<b)\n",
        "#Right Shift\n",
        "print(a>>b)"
      ],
      "id": "554ca6dc",
      "execution_count": null,
      "outputs": [
        {
          "output_type": "stream",
          "text": [
            "0\n",
            "200004\n",
            "200004\n",
            "-200001\n",
            "3200000\n",
            "12500\n"
          ],
          "name": "stdout"
        }
      ]
    },
    {
      "cell_type": "code",
      "metadata": {
        "id": "23992df0",
        "outputId": "fca1a2ae-1346-44e4-e641-77c84743a194"
      },
      "source": [
        "def sub():                  ##Funtion without parameters and without return types\n",
        "  a=int(input())\n",
        "  b=int(input())\n",
        "  print(\"The difference is: \",a-b)\n",
        "\n",
        "sub()"
      ],
      "id": "23992df0",
      "execution_count": null,
      "outputs": [
        {
          "output_type": "stream",
          "text": [
            "34\n",
            "32\n",
            "The difference is:  2\n"
          ],
          "name": "stdout"
        }
      ]
    },
    {
      "cell_type": "code",
      "metadata": {
        "id": "5d33413c",
        "outputId": "aca96526-e7f8-4d8a-fb0b-afb22da04e3e"
      },
      "source": [
        "def add(a,b):        #Funtion with parameters and without return types\n",
        "  print(\"The sum is: \",a+b)\n",
        "\n",
        "add(104000,310000)"
      ],
      "id": "5d33413c",
      "execution_count": null,
      "outputs": [
        {
          "output_type": "stream",
          "text": [
            "The sum is:  414000\n"
          ],
          "name": "stdout"
        }
      ]
    },
    {
      "cell_type": "code",
      "metadata": {
        "id": "f2d0e612",
        "outputId": "1f06083b-3176-44f7-ab8e-4fdfd19002fd"
      },
      "source": [
        "def sub(a,b):     ##Funtion with parameters and with return types\n",
        "  return a-b\n",
        "\n",
        "sub(2500,3500)"
      ],
      "id": "f2d0e612",
      "execution_count": null,
      "outputs": [
        {
          "output_type": "execute_result",
          "data": {
            "text/plain": [
              "-1000"
            ]
          },
          "metadata": {
            "tags": []
          },
          "execution_count": 10
        }
      ]
    },
    {
      "cell_type": "code",
      "metadata": {
        "id": "3eaba94e",
        "outputId": "9358c8af-da75-4863-96e5-b6e140c398e0"
      },
      "source": [
        "def sub():        #Funtion without parameters and with return types\n",
        "  a=int(input())\n",
        "  b=int(input())\n",
        "  return a-b\n",
        "\n",
        "sub()"
      ],
      "id": "3eaba94e",
      "execution_count": null,
      "outputs": [
        {
          "output_type": "stream",
          "text": [
            "23\n",
            "45\n"
          ],
          "name": "stdout"
        },
        {
          "output_type": "execute_result",
          "data": {
            "text/plain": [
              "-22"
            ]
          },
          "metadata": {
            "tags": []
          },
          "execution_count": 9
        }
      ]
    },
    {
      "cell_type": "markdown",
      "metadata": {
        "id": "f4a06dd5"
      },
      "source": [
        "# Exercise 2"
      ],
      "id": "f4a06dd5"
    },
    {
      "cell_type": "code",
      "metadata": {
        "id": "f7147ec0",
        "outputId": "45888366-b57d-4923-93c1-af6b699eb9ff"
      },
      "source": [
        "#convert to binary\n",
        "print(bin(1200))               ####Built-in functions\n",
        "#to convert to hex\n",
        "print(hex(13))\n",
        "#to find ascii value\n",
        "print(ascii(165))\n",
        "#to find character from ascii value\n",
        "print(chr(100))\n",
        "#to find the absolute value\n",
        "print(abs(-100100))\n",
        "\n",
        "print(abs(38475445))\n",
        "#to find sum\n",
        "print(sum((1530203,3068444)))\n",
        "#to convert in to string\n",
        "\n",
        "a=1275384712355158\n",
        "print(str(a))\n",
        "#to find minimum value\n",
        "min(1012,12304)\n",
        "#to evalalute expressions\n",
        "eval(\"print('This is how we use evaluate funtion')\")"
      ],
      "id": "f7147ec0",
      "execution_count": null,
      "outputs": [
        {
          "output_type": "stream",
          "text": [
            "0b10010110000\n",
            "0xd\n",
            "165\n",
            "d\n",
            "100100\n",
            "38475445\n",
            "4598647\n",
            "1275384712355158\n",
            "This is how we use evaluate funtion\n"
          ],
          "name": "stdout"
        }
      ]
    },
    {
      "cell_type": "code",
      "metadata": {
        "id": "16a5d220",
        "outputId": "64e24430-2aec-4e31-c294-de8347a17ab4"
      },
      "source": [
        "List = []\n",
        "print(\"Blank List: \")       #list\n",
        "print(List)\n",
        "List = [10, 20, 14]\n",
        "print(\"\\nList of numbers: \")\n",
        "print(List)"
      ],
      "id": "16a5d220",
      "execution_count": null,
      "outputs": [
        {
          "output_type": "stream",
          "text": [
            "Blank List: \n",
            "[]\n",
            "\n",
            "List of numbers: \n",
            "[10, 20, 14]\n"
          ],
          "name": "stdout"
        }
      ]
    },
    {
      "cell_type": "code",
      "metadata": {
        "id": "04e96856",
        "outputId": "d1f9e081-c363-4ece-fc52-6c779be8ede7"
      },
      "source": [
        "empty_tuple = ()          #tuple\n",
        "print (empty_tuple)\n",
        "tup = ('python', 'geeks')\n",
        "print(tup)"
      ],
      "id": "04e96856",
      "execution_count": null,
      "outputs": [
        {
          "output_type": "stream",
          "text": [
            "()\n",
            "('python', 'geeks')\n"
          ],
          "name": "stdout"
        }
      ]
    },
    {
      "cell_type": "code",
      "metadata": {
        "id": "bcddaa5b",
        "outputId": "2157bf94-09c9-4b01-f162-580d4b96096f"
      },
      "source": [
        "Dict = {1: 'Geeks', 2: 'For', 3: 'Geeks'}             ##dictionary\n",
        "print(\"\\nDictionary with the use of Integer Keys: \")\n",
        "print(Dict)\n",
        " \n",
        "Dict = {'Name': 'Geeks', 1: [1, 2, 3, 4]}\n",
        "print(\"\\nDictionary with the use of Mixed Keys: \")\n",
        "print(Dict)"
      ],
      "id": "bcddaa5b",
      "execution_count": null,
      "outputs": [
        {
          "output_type": "stream",
          "text": [
            "\n",
            "Dictionary with the use of Integer Keys: \n",
            "{1: 'Geeks', 2: 'For', 3: 'Geeks'}\n",
            "\n",
            "Dictionary with the use of Mixed Keys: \n",
            "{'Name': 'Geeks', 1: [1, 2, 3, 4]}\n"
          ],
          "name": "stdout"
        }
      ]
    },
    {
      "cell_type": "code",
      "metadata": {
        "id": "e18709b4",
        "outputId": "5fee0bc3-5db0-4312-e54e-83adf2638455"
      },
      "source": [
        "String1 = \"World of Artificial Intelligence\"    ##Accessing various characters in a string\n",
        "print(\"Initial String: \")\n",
        "print(String1)\n",
        "  \n",
        "print(\"\\nFirst character of String is: \")\n",
        "print(String1[0])\n",
        "  \n",
        "print(\"\\nLast character of String is: \")\n",
        "print(String1[-1])\n",
        "\n",
        "print(\"\\nSlicing characters from 3-12: \")\n",
        "print(String1[3:12])"
      ],
      "id": "e18709b4",
      "execution_count": null,
      "outputs": [
        {
          "output_type": "stream",
          "text": [
            "Initial String: \n",
            "World of Artificial Intelligence\n",
            "\n",
            "First character of String is: \n",
            "W\n",
            "\n",
            "Last character of String is: \n",
            "e\n",
            "\n",
            "Slicing characters from 3-12: \n",
            "ld of Art\n"
          ],
          "name": "stdout"
        }
      ]
    },
    {
      "cell_type": "code",
      "metadata": {
        "id": "50f6488f",
        "outputId": "377c65d7-35fe-42c4-9a30-1fdc5cf26b9d"
      },
      "source": [
        "s = \"Artificial Intelligence\"          #string operations\n",
        "\n",
        "print(s.capitalize())\n",
        "print(s.upper())\n",
        "print(s.lower())\n",
        "print(s.startswith(\"Arti\"))\n",
        "print(s.startswith(\"ficial\"))\n",
        "print(s.endswith(\"gence\"))"
      ],
      "id": "50f6488f",
      "execution_count": null,
      "outputs": [
        {
          "output_type": "stream",
          "text": [
            "Artificial intelligence\n",
            "ARTIFICIAL INTELLIGENCE\n",
            "artificial intelligence\n",
            "True\n",
            "False\n",
            "True\n"
          ],
          "name": "stdout"
        }
      ]
    },
    {
      "cell_type": "code",
      "metadata": {
        "id": "c1c3022b",
        "outputId": "80704f60-d518-40f3-ad6f-35968580a58d"
      },
      "source": [
        "first_name=\"Kamal\"\n",
        "last_name=\"Kumar\"\n",
        "print(\"-------\".join((first_name,last_name)))"
      ],
      "id": "c1c3022b",
      "execution_count": null,
      "outputs": [
        {
          "output_type": "stream",
          "text": [
            "Kamal-------Kumar\n"
          ],
          "name": "stdout"
        }
      ]
    },
    {
      "cell_type": "markdown",
      "metadata": {
        "id": "f99fed67"
      },
      "source": [
        "# Exercise 3"
      ],
      "id": "f99fed67"
    },
    {
      "cell_type": "code",
      "metadata": {
        "colab": {
          "base_uri": "https://localhost:8080/"
        },
        "id": "9729110e",
        "outputId": "520b8a0e-7bf2-4bab-fbca-7faea64e55bb"
      },
      "source": [
        "class car:                  ##class and object\n",
        "    att='Car'\n",
        "    def ride(self):\n",
        "        print(\"we are having a ride on this \",self.att)\n",
        "our_car=car()\n",
        "print(our_car.att)\n",
        "our_car.ride()"
      ],
      "id": "9729110e",
      "execution_count": null,
      "outputs": [
        {
          "output_type": "stream",
          "text": [
            "Car\n",
            "we are having a ride on this  Car\n"
          ],
          "name": "stdout"
        }
      ]
    },
    {
      "cell_type": "code",
      "metadata": {
        "colab": {
          "base_uri": "https://localhost:8080/"
        },
        "id": "acdc137d",
        "outputId": "50e62aec-0efa-4aed-d6dc-ff0d9911e863"
      },
      "source": [
        "class Customer:\n",
        "  def __init__(self, name, city):               ####Static and instance method\n",
        "    self.name = name\n",
        "    self.city = city\n",
        "\n",
        "  def customer_data(self):\n",
        "    print(\"Customer Name: \", self.name)\n",
        "    print(\"City: \",self.city)\n",
        "\n",
        "  def all_customers_data(customers):\n",
        "    print(\"\\n\")\n",
        "    print(\"*\"*20)\n",
        "    for customer in customers:\n",
        "      customer.customer_data()\n",
        "      print(\"-\"*20)\n",
        "    print(\"*\"*20)\n",
        "\n",
        "c1 = Customer(\"Kamal\", \"Andhra pradesh\")\n",
        "c2 = Customer(\"Chaitanya\", \"Ongole\")\n",
        "c3 = Customer(\"Rohan\", \"warangal\")\n",
        "\n",
        "c1.customer_data()\n",
        "\n",
        "Customer.all_customers_data((c1, c2, c3))"
      ],
      "id": "acdc137d",
      "execution_count": null,
      "outputs": [
        {
          "output_type": "stream",
          "text": [
            "Customer Name:  Kamal\n",
            "City:  Andhra pradesh\n",
            "\n",
            "\n",
            "********************\n",
            "Customer Name:  Kamal\n",
            "City:  Andhra pradesh\n",
            "--------------------\n",
            "Customer Name:  Chaitanya\n",
            "City:  Ongole\n",
            "--------------------\n",
            "Customer Name:  Rohan\n",
            "City:  warangal\n",
            "--------------------\n",
            "********************\n"
          ],
          "name": "stdout"
        }
      ]
    },
    {
      "cell_type": "code",
      "metadata": {
        "colab": {
          "background_save": true,
          "base_uri": "https://localhost:8080/"
        },
        "id": "056b5d08",
        "outputId": "245a4d08-6cc1-474e-9c0d-fc43cbd03448"
      },
      "source": [
        "import math                                       ## distance between two points##\n",
        "def dis_bet_points(x1,x2,y1,y2):\n",
        "     return math.sqrt(math.pow(x2 - x1, 2) + math.pow(y2 - y1, 2))\n",
        "print(\"give the inputs as points:\")\n",
        "x1=int(input(\"x1: \"))\n",
        "y1=int(input(\"y1: \"))\n",
        "x2=int(input(\"x2: \"))\n",
        "y2=int(input(\"y2: \"))\n",
        "gap=dis_bet_points(x1,x2,y1,y2)\n",
        "print(gap)\n"
      ],
      "id": "056b5d08",
      "execution_count": null,
      "outputs": [
        {
          "output_type": "stream",
          "text": [
            "give the inputs as points:\n"
          ],
          "name": "stdout"
        }
      ]
    },
    {
      "cell_type": "markdown",
      "metadata": {
        "id": "6e154bfe"
      },
      "source": [
        "# Exerxise 4"
      ],
      "id": "6e154bfe"
    },
    {
      "cell_type": "code",
      "metadata": {
        "id": "7687b249",
        "outputId": "394bd131-d325-4e53-8e2f-6c551865f836"
      },
      "source": [
        "class Person(object):        ###Inheritance\n",
        "       \n",
        "    def __init__(self, name):\n",
        "        self.name = name\n",
        "   \n",
        "    def getName(self):\n",
        "        return self.name\n",
        "   \n",
        "    def isEmployee(self):\n",
        "        return False\n",
        "   \n",
        "class Employee(Person):\n",
        "   \n",
        "    def isEmployee(self):\n",
        "        return True\n",
        "   \n",
        "emp = Person(\"Geek1\")  \n",
        "print(emp.getName(), emp.isEmployee())\n",
        "   \n",
        "emp = Employee(\"Geek2\") \n",
        "print(emp.getName(), emp.isEmployee())"
      ],
      "id": "7687b249",
      "execution_count": null,
      "outputs": [
        {
          "output_type": "stream",
          "text": [
            "Geek1 False\n",
            "Geek2 True\n"
          ],
          "name": "stdout"
        }
      ]
    },
    {
      "cell_type": "code",
      "metadata": {
        "id": "7e587fc7",
        "outputId": "4a483e97-13f3-4af7-ee6d-b2f47eb91c58"
      },
      "source": [
        "class India():                                   ##Abstract classes\n",
        "    def capital(self):\n",
        "        print(\"New Delhi is the capital of India.\")\n",
        "  \n",
        "    def language(self):\n",
        "        print(\"Hindi is the most widely spoken language of India.\")\n",
        "  \n",
        "    def type(self):\n",
        "        print(\"India is a developing country.\")\n",
        "  \n",
        "class USA():\n",
        "    def capital(self):\n",
        "        print(\"Washington, D.C. is the capital of USA.\")\n",
        "  \n",
        "    def language(self):\n",
        "        print(\"English is the primary language of USA.\")\n",
        "  \n",
        "    def type(self):\n",
        "        print(\"USA is a developed country.\")\n",
        "  \n",
        "obj_ind = India()\n",
        "obj_usa = USA()\n",
        "for country in (obj_ind, obj_usa):\n",
        "    country.capital()\n",
        "    country.language()\n",
        "    country.type()"
      ],
      "id": "7e587fc7",
      "execution_count": null,
      "outputs": [
        {
          "output_type": "stream",
          "text": [
            "New Delhi is the capital of India.\n",
            "Hindi is the most widely spoken language of India.\n",
            "India is a developing country.\n",
            "Washington, D.C. is the capital of USA.\n",
            "English is the primary language of USA.\n",
            "USA is a developed country.\n"
          ],
          "name": "stdout"
        }
      ]
    },
    {
      "cell_type": "markdown",
      "metadata": {
        "id": "65afdff3"
      },
      "source": [
        "# Exercise 5"
      ],
      "id": "65afdff3"
    },
    {
      "cell_type": "code",
      "metadata": {
        "id": "d1f872d9"
      },
      "source": [
        "import pandas as pd              ###Kmeans clustering\n",
        "import numpy as np\n",
        "import matplotlib.pyplot as plt\n",
        "import seaborn as sns\n",
        "from sklearn.cluster import KMeans"
      ],
      "id": "d1f872d9",
      "execution_count": null,
      "outputs": []
    },
    {
      "cell_type": "code",
      "metadata": {
        "id": "30f3e164",
        "outputId": "51b479ab-ddce-47cb-82f4-443a1172144b"
      },
      "source": [
        "our_data=pd.read_csv('iris.csv')\n",
        "our_data.head()"
      ],
      "id": "30f3e164",
      "execution_count": null,
      "outputs": [
        {
          "output_type": "execute_result",
          "data": {
            "text/html": [
              "<div>\n",
              "<style scoped>\n",
              "    .dataframe tbody tr th:only-of-type {\n",
              "        vertical-align: middle;\n",
              "    }\n",
              "\n",
              "    .dataframe tbody tr th {\n",
              "        vertical-align: top;\n",
              "    }\n",
              "\n",
              "    .dataframe thead th {\n",
              "        text-align: right;\n",
              "    }\n",
              "</style>\n",
              "<table border=\"1\" class=\"dataframe\">\n",
              "  <thead>\n",
              "    <tr style=\"text-align: right;\">\n",
              "      <th></th>\n",
              "      <th>5.1</th>\n",
              "      <th>3.5</th>\n",
              "      <th>1.4</th>\n",
              "      <th>0.2</th>\n",
              "      <th>Iris-setosa</th>\n",
              "    </tr>\n",
              "  </thead>\n",
              "  <tbody>\n",
              "    <tr>\n",
              "      <th>0</th>\n",
              "      <td>4.9</td>\n",
              "      <td>3.0</td>\n",
              "      <td>1.4</td>\n",
              "      <td>0.2</td>\n",
              "      <td>Iris-setosa</td>\n",
              "    </tr>\n",
              "    <tr>\n",
              "      <th>1</th>\n",
              "      <td>4.7</td>\n",
              "      <td>3.2</td>\n",
              "      <td>1.3</td>\n",
              "      <td>0.2</td>\n",
              "      <td>Iris-setosa</td>\n",
              "    </tr>\n",
              "    <tr>\n",
              "      <th>2</th>\n",
              "      <td>4.6</td>\n",
              "      <td>3.1</td>\n",
              "      <td>1.5</td>\n",
              "      <td>0.2</td>\n",
              "      <td>Iris-setosa</td>\n",
              "    </tr>\n",
              "    <tr>\n",
              "      <th>3</th>\n",
              "      <td>5.0</td>\n",
              "      <td>3.6</td>\n",
              "      <td>1.4</td>\n",
              "      <td>0.2</td>\n",
              "      <td>Iris-setosa</td>\n",
              "    </tr>\n",
              "    <tr>\n",
              "      <th>4</th>\n",
              "      <td>5.4</td>\n",
              "      <td>3.9</td>\n",
              "      <td>1.7</td>\n",
              "      <td>0.4</td>\n",
              "      <td>Iris-setosa</td>\n",
              "    </tr>\n",
              "  </tbody>\n",
              "</table>\n",
              "</div>"
            ],
            "text/plain": [
              "   5.1  3.5  1.4  0.2  Iris-setosa\n",
              "0  4.9  3.0  1.4  0.2  Iris-setosa\n",
              "1  4.7  3.2  1.3  0.2  Iris-setosa\n",
              "2  4.6  3.1  1.5  0.2  Iris-setosa\n",
              "3  5.0  3.6  1.4  0.2  Iris-setosa\n",
              "4  5.4  3.9  1.7  0.4  Iris-setosa"
            ]
          },
          "metadata": {
            "tags": []
          },
          "execution_count": 30
        }
      ]
    },
    {
      "cell_type": "code",
      "metadata": {
        "id": "5731baef",
        "outputId": "69c2678f-fd1d-42d9-b846-2aa39bc21bf4"
      },
      "source": [
        "x=our_data.iloc[:,[0,1,2,3]]\n",
        "x"
      ],
      "id": "5731baef",
      "execution_count": null,
      "outputs": [
        {
          "output_type": "execute_result",
          "data": {
            "text/html": [
              "<div>\n",
              "<style scoped>\n",
              "    .dataframe tbody tr th:only-of-type {\n",
              "        vertical-align: middle;\n",
              "    }\n",
              "\n",
              "    .dataframe tbody tr th {\n",
              "        vertical-align: top;\n",
              "    }\n",
              "\n",
              "    .dataframe thead th {\n",
              "        text-align: right;\n",
              "    }\n",
              "</style>\n",
              "<table border=\"1\" class=\"dataframe\">\n",
              "  <thead>\n",
              "    <tr style=\"text-align: right;\">\n",
              "      <th></th>\n",
              "      <th>5.1</th>\n",
              "      <th>3.5</th>\n",
              "      <th>1.4</th>\n",
              "      <th>0.2</th>\n",
              "    </tr>\n",
              "  </thead>\n",
              "  <tbody>\n",
              "    <tr>\n",
              "      <th>0</th>\n",
              "      <td>4.9</td>\n",
              "      <td>3.0</td>\n",
              "      <td>1.4</td>\n",
              "      <td>0.2</td>\n",
              "    </tr>\n",
              "    <tr>\n",
              "      <th>1</th>\n",
              "      <td>4.7</td>\n",
              "      <td>3.2</td>\n",
              "      <td>1.3</td>\n",
              "      <td>0.2</td>\n",
              "    </tr>\n",
              "    <tr>\n",
              "      <th>2</th>\n",
              "      <td>4.6</td>\n",
              "      <td>3.1</td>\n",
              "      <td>1.5</td>\n",
              "      <td>0.2</td>\n",
              "    </tr>\n",
              "    <tr>\n",
              "      <th>3</th>\n",
              "      <td>5.0</td>\n",
              "      <td>3.6</td>\n",
              "      <td>1.4</td>\n",
              "      <td>0.2</td>\n",
              "    </tr>\n",
              "    <tr>\n",
              "      <th>4</th>\n",
              "      <td>5.4</td>\n",
              "      <td>3.9</td>\n",
              "      <td>1.7</td>\n",
              "      <td>0.4</td>\n",
              "    </tr>\n",
              "    <tr>\n",
              "      <th>...</th>\n",
              "      <td>...</td>\n",
              "      <td>...</td>\n",
              "      <td>...</td>\n",
              "      <td>...</td>\n",
              "    </tr>\n",
              "    <tr>\n",
              "      <th>144</th>\n",
              "      <td>6.7</td>\n",
              "      <td>3.0</td>\n",
              "      <td>5.2</td>\n",
              "      <td>2.3</td>\n",
              "    </tr>\n",
              "    <tr>\n",
              "      <th>145</th>\n",
              "      <td>6.3</td>\n",
              "      <td>2.5</td>\n",
              "      <td>5.0</td>\n",
              "      <td>1.9</td>\n",
              "    </tr>\n",
              "    <tr>\n",
              "      <th>146</th>\n",
              "      <td>6.5</td>\n",
              "      <td>3.0</td>\n",
              "      <td>5.2</td>\n",
              "      <td>2.0</td>\n",
              "    </tr>\n",
              "    <tr>\n",
              "      <th>147</th>\n",
              "      <td>6.2</td>\n",
              "      <td>3.4</td>\n",
              "      <td>5.4</td>\n",
              "      <td>2.3</td>\n",
              "    </tr>\n",
              "    <tr>\n",
              "      <th>148</th>\n",
              "      <td>5.9</td>\n",
              "      <td>3.0</td>\n",
              "      <td>5.1</td>\n",
              "      <td>1.8</td>\n",
              "    </tr>\n",
              "  </tbody>\n",
              "</table>\n",
              "<p>149 rows × 4 columns</p>\n",
              "</div>"
            ],
            "text/plain": [
              "     5.1  3.5  1.4  0.2\n",
              "0    4.9  3.0  1.4  0.2\n",
              "1    4.7  3.2  1.3  0.2\n",
              "2    4.6  3.1  1.5  0.2\n",
              "3    5.0  3.6  1.4  0.2\n",
              "4    5.4  3.9  1.7  0.4\n",
              "..   ...  ...  ...  ...\n",
              "144  6.7  3.0  5.2  2.3\n",
              "145  6.3  2.5  5.0  1.9\n",
              "146  6.5  3.0  5.2  2.0\n",
              "147  6.2  3.4  5.4  2.3\n",
              "148  5.9  3.0  5.1  1.8\n",
              "\n",
              "[149 rows x 4 columns]"
            ]
          },
          "metadata": {
            "tags": []
          },
          "execution_count": 32
        }
      ]
    },
    {
      "cell_type": "code",
      "metadata": {
        "id": "c4dc3151",
        "outputId": "0b317700-8a54-462f-d5ad-c6bef9742b7b"
      },
      "source": [
        "kmeans_5=KMeans(n_clusters=5)\n",
        "y_kmeans_5=kmeans_5.fit_predict(x)\n",
        "print(y_kmeans_5)"
      ],
      "id": "c4dc3151",
      "execution_count": null,
      "outputs": [
        {
          "output_type": "stream",
          "text": [
            "[1 1 1 1 1 1 1 1 1 1 1 1 1 1 1 1 1 1 1 1 1 1 1 1 1 1 1 1 1 1 1 1 1 1 1 1 1\n",
            " 1 1 1 1 1 1 1 1 1 1 1 1 3 3 3 2 3 3 3 2 3 2 2 3 2 3 2 3 3 2 3 2 3 2 3 3 3\n",
            " 3 3 3 3 2 2 2 2 3 2 3 3 3 2 2 2 3 2 2 2 2 2 3 2 2 0 3 4 0 0 4 2 4 0 4 0 0\n",
            " 0 3 0 0 0 4 4 3 0 3 4 3 0 4 3 3 0 4 4 4 0 3 3 4 0 0 3 0 0 0 3 0 0 0 3 0 0\n",
            " 3]\n"
          ],
          "name": "stdout"
        }
      ]
    },
    {
      "cell_type": "code",
      "metadata": {
        "id": "aef1734f",
        "outputId": "f4e1cd26-d961-4b6a-882f-4675ca246570"
      },
      "source": [
        "kmeans_5.cluster_centers_"
      ],
      "id": "aef1734f",
      "execution_count": null,
      "outputs": [
        {
          "output_type": "execute_result",
          "data": {
            "text/plain": [
              "array([[6.52916667, 3.05833333, 5.50833333, 2.1625    ],\n",
              "       [5.00408163, 3.41632653, 1.46530612, 0.24489796],\n",
              "       [5.508     , 2.6       , 3.908     , 1.204     ],\n",
              "       [6.20769231, 2.85384615, 4.74615385, 1.56410256],\n",
              "       [7.475     , 3.125     , 6.3       , 2.05      ]])"
            ]
          },
          "metadata": {
            "tags": []
          },
          "execution_count": 36
        }
      ]
    },
    {
      "cell_type": "code",
      "metadata": {
        "id": "eecb8b17",
        "outputId": "aa483931-9e33-45ed-ade4-72609e26f55d"
      },
      "source": [
        "error=[]\n",
        "for i in range(1,11):\n",
        "    kmeans=KMeans(n_clusters=i).fit(x)\n",
        "    kmeans.fit(x)\n",
        "    error.append(kmeans.inertia_)\n",
        "import matplotlib.pyplot as plt\n",
        "plt.plot(range(1, 11), error)\n",
        "plt.title('Elbow method')\n",
        "plt.xlabel('No of clusters')\n",
        "plt.ylabel('error')\n",
        "plt.show()"
      ],
      "id": "eecb8b17",
      "execution_count": null,
      "outputs": [
        {
          "output_type": "stream",
          "text": [
            "C:\\Users\\Kamal\\anaconda3\\lib\\site-packages\\sklearn\\cluster\\_kmeans.py:881: UserWarning: KMeans is known to have a memory leak on Windows with MKL, when there are less chunks than available threads. You can avoid it by setting the environment variable OMP_NUM_THREADS=1.\n",
            "  warnings.warn(\n",
            "C:\\Users\\Kamal\\anaconda3\\lib\\site-packages\\sklearn\\cluster\\_kmeans.py:881: UserWarning: KMeans is known to have a memory leak on Windows with MKL, when there are less chunks than available threads. You can avoid it by setting the environment variable OMP_NUM_THREADS=1.\n",
            "  warnings.warn(\n"
          ],
          "name": "stderr"
        },
        {
          "output_type": "display_data",
          "data": {
            "image/png": "[encoded data removed]",
            "text/plain": [
              "<Figure size 432x288 with 1 Axes>"
            ]
          },
          "metadata": {
            "tags": []
          }
        }
      ]
    },
    {
      "cell_type": "code",
      "metadata": {
        "id": "c32c17fe"
      },
      "source": [
        "from __future__ import division ####calculating entropy\n",
        "from math import log"
      ],
      "id": "c32c17fe",
      "execution_count": null,
      "outputs": []
    },
    {
      "cell_type": "code",
      "metadata": {
        "id": "bd7bd79e",
        "outputId": "02fb2550-c167-444d-f9fd-fdb0339208ac"
      },
      "source": [
        "def cal_entropy(pi):\n",
        "    tot=0\n",
        "    for p in pi:\n",
        "        p=p/sum(pi)\n",
        "        if p!=0 :\n",
        "            tot+=p*log(p,2)\n",
        "    tot*=-1\n",
        "    return tot\n",
        "def cal_gain(d,a):\n",
        "    tot=0\n",
        "    for v in a:\n",
        "        tot+=sum(v)/sum(d)*cal_entropy(v)\n",
        "    cal_gain=cal_entropy(d)-tot\n",
        "    return  cal_gain\n",
        "ww=[4,5]\n",
        "pt=[[2,0],[5,4],[2,3]]\n",
        "print(cal_gain(ww,pt))"
      ],
      "id": "bd7bd79e",
      "execution_count": null,
      "outputs": [
        {
          "output_type": "stream",
          "text": [
            "-0.5394169969192604\n"
          ],
          "name": "stdout"
        }
      ]
    },
    {
      "cell_type": "markdown",
      "metadata": {
        "id": "925890e5"
      },
      "source": [
        "# Exercise 6"
      ],
      "id": "925890e5"
    },
    {
      "cell_type": "code",
      "metadata": {
        "colab": {
          "base_uri": "https://localhost:8080/"
        },
        "id": "RhTz_CLmokZ1",
        "outputId": "f5047b2e-cbed-45ae-d87d-de8fd2bd8204"
      },
      "source": [
        "class Node:\n",
        " \n",
        "   def __init__(self, data):\n",
        "     self.data = data\n",
        "     self.left = None\n",
        "     self.right = None\n",
        " \n",
        "\n",
        "def maxDepth(node):\n",
        "    if node is None:\n",
        "        return 0 ;\n",
        " \n",
        "    else :\n",
        "        leftDepth = maxDepth(node.left)\n",
        "        rightDepth = maxDepth(node.right)\n",
        " \n",
        "        \n",
        "        if (leftDepth > rightDepth):\n",
        "            return leftDepth+1\n",
        "        else:\n",
        "            return rightDepth+1\n",
        " \n",
        " \n",
        "\n",
        "root = Node(45)\n",
        "root.left = Node(27)\n",
        "root.right = Node(44)\n",
        "root.left.left = Node(90)\n",
        "\n",
        " \n",
        " \n",
        "print (\"Height of tree is %d\" %(maxDepth(root)))"
      ],
      "id": "RhTz_CLmokZ1",
      "execution_count": null,
      "outputs": [
        {
          "output_type": "stream",
          "text": [
            "Height of tree is 3\n"
          ],
          "name": "stdout"
        }
      ]
    },
    {
      "cell_type": "markdown",
      "metadata": {
        "id": "72fb3aea"
      },
      "source": [
        "# Exerxise 7"
      ],
      "id": "72fb3aea"
    },
    {
      "cell_type": "code",
      "metadata": {
        "id": "4c372edf"
      },
      "source": [
        "import numpy as np\n",
        "import numpy.linalg as linalg"
      ],
      "id": "4c372edf",
      "execution_count": null,
      "outputs": []
    },
    {
      "cell_type": "code",
      "metadata": {
        "id": "0d4eb995"
      },
      "source": [
        "our_mat=np.array([[5,8,4],[1,3,2],[6,9,7]])\n",
        "our_mat=np.matrix(our_mat)"
      ],
      "id": "0d4eb995",
      "execution_count": null,
      "outputs": []
    },
    {
      "cell_type": "code",
      "metadata": {
        "id": "00958d5e",
        "outputId": "4028219e-6e37-41dd-f6c1-2fec32ebd814"
      },
      "source": [
        "print(type(our_mat))\n",
        "print(\"#######################\")\n",
        "our_mat_sort=np.sort(our_mat)\n",
        "print(\"Sorted matric: \")\n",
        "print(our_mat_sort)\n",
        "print(\"#######################\")\n",
        "our_mat_tran=np.transpose(our_mat)\n",
        "print(\"transpose of matrix : \")\n",
        "print(our_mat_tran)\n",
        "print(\"#######################\")\n",
        "our_mat_concate=np.concatenate((our_mat,our_mat_tran),0)\n",
        "print(\"after concatenation : \")\n",
        "print(our_mat_concate)\n",
        "print(\"#######################\")"
      ],
      "id": "00958d5e",
      "execution_count": null,
      "outputs": [
        {
          "output_type": "stream",
          "text": [
            "<class 'numpy.matrix'>\n",
            "#######################\n",
            "Sorted matric: \n",
            "[[4 5 8]\n",
            " [1 2 3]\n",
            " [6 7 9]]\n",
            "#######################\n",
            "transpose of matrix : \n",
            "[[5 1 6]\n",
            " [8 3 9]\n",
            " [4 2 7]]\n",
            "#######################\n",
            "after concatenation : \n",
            "[[5 8 4]\n",
            " [1 3 2]\n",
            " [6 9 7]\n",
            " [5 1 6]\n",
            " [8 3 9]\n",
            " [4 2 7]]\n",
            "#######################\n"
          ],
          "name": "stdout"
        }
      ]
    },
    {
      "cell_type": "code",
      "metadata": {
        "id": "3945825c"
      },
      "source": [
        "# Suppose if we have to solve a two linear equations so we can solve them by using this linalg from numpy library\n",
        "## our linearequations are  (3*x1) + (2*x2) =2   and    (5*x1) + (4*x2) =4\n",
        "### we will consider the factors which are multiplied are taken into one matrix and the constants into another matrix to solve."
      ],
      "id": "3945825c",
      "execution_count": null,
      "outputs": []
    },
    {
      "cell_type": "code",
      "metadata": {
        "id": "467db68f",
        "outputId": "fc61ccd0-acbb-4a0b-82f6-8729ddf5f528"
      },
      "source": [
        "# a matrix contain factors multiplied\n",
        "a=np.array([[3,2],[5,4]])\n",
        "# b matrix contain contants\n",
        "b=np.array([[2],[4]])\n",
        "### linalg.solve() method\n",
        "result=linalg.solve(a,b)\n",
        "print(\"solution of the equations are :\\n \",result)\n",
        "print(\"#################\") \n",
        " \n",
        "##lstsq is method to resolve a solution which is least-squared for a matrix\n",
        "A=np.random.randint(0,10,(3,2))\n",
        "print(\"The matrix A is:\\n\",A)\n",
        "print(\"#################\")\n",
        "B=np.random.randint(0,10,(3,1))\n",
        "print(\"The matrix B is:\\n\",B)\n",
        "C=linalg.lstsq(A,B) \n",
        "print(\"The least-squares solution is:\\n\",C)\n",
        "print(\"\\n\")\n",
        "\n",
        "  ## singular value decomposition............\n",
        "Matrix=np.random.randint(0,11,(3,4))\n",
        "print(\"The Matrix is:\\n\",Matrix)\n",
        "print(\"#################\")\n",
        "(A,B,C)=linalg.svd(Matrix) \n",
        "print(A)\n",
        "print(\"#################\")\n",
        "print(B)\n",
        "print(\"#################\")\n",
        "print(C)\n",
        "print(\"#################\")"
      ],
      "id": "467db68f",
      "execution_count": null,
      "outputs": [
        {
          "output_type": "stream",
          "text": [
            "solution of the equations are :\n",
            "  [[0.]\n",
            " [1.]]\n",
            "#################\n",
            "The matrix A is:\n",
            " [[3 0]\n",
            " [9 6]\n",
            " [8 8]]\n",
            "#################\n",
            "The matrix B is:\n",
            " [[0]\n",
            " [6]\n",
            " [9]]\n",
            "The least-squares solution is:\n",
            " (array([[-0.09756098],\n",
            "       [ 1.19512195]]), array([0.2195122]), 2, array([15.74958973,  2.43934897]))\n",
            "\n",
            "\n",
            "The Matrix is:\n",
            " [[0 0 9 5]\n",
            " [8 3 3 2]\n",
            " [3 9 1 4]]\n",
            "#################\n",
            "[[ 0.50104992  0.84974421  0.16396267]\n",
            " [ 0.5821247  -0.19073442 -0.79041206]\n",
            " [ 0.64037474 -0.49148262  0.59022455]]\n",
            "#################\n",
            "[13.64004648  8.99564703  5.65928146]\n",
            "#################\n",
            "[[ 0.48226535  0.55056607  0.50558465  0.45681648]\n",
            " [-0.33353056 -0.55532935  0.73191089  0.2113602 ]\n",
            " [-0.80445244  0.51963926 -0.05395519  0.28270152]\n",
            " [ 0.09504612 -0.34418216 -0.4536292   0.81653256]]\n",
            "#################\n"
          ],
          "name": "stdout"
        },
        {
          "output_type": "stream",
          "text": [
            "<ipython-input-70-df740c3683ef>:16: FutureWarning: `rcond` parameter will change to the default of machine precision times ``max(M, N)`` where M and N are the input matrix dimensions.\n",
            "To use the future default and silence this warning we advise to pass `rcond=None`, to keep using the old, explicitly pass `rcond=-1`.\n",
            "  C=linalg.lstsq(A,B)\n"
          ],
          "name": "stderr"
        }
      ]
    },
    {
      "cell_type": "markdown",
      "metadata": {
        "id": "91751275"
      },
      "source": [
        "# Exercise 8"
      ],
      "id": "91751275"
    },
    {
      "cell_type": "code",
      "metadata": {
        "id": "f0de04e9",
        "outputId": "fa98d0fa-6734-48f7-a8b1-de97bda6ad62"
      },
      "source": [
        "import pandas as pd\n",
        "data = {'Name':['Tom', 'nick', 'krish', 'jack'],'Age':[20, 21, 19, 18]}\n",
        "df = pd.DataFrame(data)\n",
        "print(df)"
      ],
      "id": "f0de04e9",
      "execution_count": null,
      "outputs": [
        {
          "output_type": "stream",
          "text": [
            "    Name  Age\n",
            "0    Tom   20\n",
            "1   nick   21\n",
            "2  krish   19\n",
            "3   jack   18\n"
          ],
          "name": "stdout"
        }
      ]
    },
    {
      "cell_type": "code",
      "metadata": {
        "id": "4bd5a2d6",
        "outputId": "fe33a6ca-5855-469f-9bb7-714be150d330"
      },
      "source": [
        "import matplotlib.pyplot as plt \n",
        "x = [3, 1, 3] \n",
        "y = [3, 2, 1] \n",
        "plt.plot(x, y)\n",
        "plt.title(\"Line Chart\")\n",
        "plt.legend([\"Line\"])\n",
        "plt.show()"
      ],
      "id": "4bd5a2d6",
      "execution_count": null,
      "outputs": [
        {
          "output_type": "display_data",
          "data": {
            "image/png": "[encoded data removed]",
            "text/plain": [
              "<Figure size 432x288 with 1 Axes>"
            ]
          },
          "metadata": {
            "tags": []
          }
        }
      ]
    },
    {
      "cell_type": "code",
      "metadata": {
        "id": "bce6cccc",
        "outputId": "78327bad-4ac3-4da3-bf92-3d0abec35ebd"
      },
      "source": [
        "x = [3, 1, 3, 12, 2, 4, 4] \n",
        "y = [3, 2, 1, 4, 5, 6, 7] \n",
        "plt.bar(x, y)\n",
        "plt.title(\"Bar Chart\")   \n",
        "plt.legend([\"bar\"])\n",
        "plt.show()"
      ],
      "id": "bce6cccc",
      "execution_count": null,
      "outputs": [
        {
          "output_type": "display_data",
          "data": {
            "image/png": "[encoded data removed]",
            "text/plain": [
              "<Figure size 432x288 with 1 Axes>"
            ]
          },
          "metadata": {
            "tags": []
          }
        }
      ]
    },
    {
      "cell_type": "code",
      "metadata": {
        "id": "1c838f10",
        "outputId": "d2b127a2-b21b-4828-9a24-8c26215cc1ae"
      },
      "source": [
        "x = [1, 2, 3, 4, 5, 6, 7, 4] \n",
        "plt.hist(x, bins = [1, 2, 3, 4, 5, 6, 7])\n",
        "plt.title(\"Histogram\")\n",
        "plt.legend([\"bar\"])\n",
        "plt.show()"
      ],
      "id": "1c838f10",
      "execution_count": null,
      "outputs": [
        {
          "output_type": "display_data",
          "data": {
            "image/png": "[encoded data removed]",
            "text/plain": [
              "<Figure size 432x288 with 1 Axes>"
            ]
          },
          "metadata": {
            "tags": []
          }
        }
      ]
    },
    {
      "cell_type": "code",
      "metadata": {
        "id": "4347e4db",
        "outputId": "6beb8fca-64b0-4ced-b845-e90c9dff61ae"
      },
      "source": [
        "x = [3, 1, 3, 12, 2, 4, 4]\n",
        "y = [3, 2, 1, 4, 5, 6, 7]\n",
        "plt.scatter(x, y)\n",
        "plt.legend(\"A\")\n",
        "plt.title(\"Scatter chart\")\n",
        "plt.show()"
      ],
      "id": "4347e4db",
      "execution_count": null,
      "outputs": [
        {
          "output_type": "display_data",
          "data": {
            "image/png": "[encoded data removed]",
            "text/plain": [
              "<Figure size 432x288 with 1 Axes>"
            ]
          },
          "metadata": {
            "tags": []
          }
        }
      ]
    },
    {
      "cell_type": "code",
      "metadata": {
        "id": "ab5c4404",
        "outputId": "d213a52c-16e2-4dab-eaa8-f35991c59be3"
      },
      "source": [
        "x = [1, 2, 3, 4]\n",
        "e  =(0.1, 0, 0, 0)\n",
        "plt.pie(x, explode = e)\n",
        "plt.title(\"Pie chart\")\n",
        "plt.show()"
      ],
      "id": "ab5c4404",
      "execution_count": null,
      "outputs": [
        {
          "output_type": "display_data",
          "data": {
            "image/png": "[encoded data removed]",
            "text/plain": [
              "<Figure size 432x288 with 1 Axes>"
            ]
          },
          "metadata": {
            "tags": []
          }
        }
      ]
    },
    {
      "cell_type": "markdown",
      "metadata": {
        "id": "1af72673"
      },
      "source": [
        "# Exercise 9"
      ],
      "id": "1af72673"
    },
    {
      "cell_type": "code",
      "metadata": {
        "id": "101144b3",
        "outputId": "9d30a30a-525c-45bb-ccbc-27927404348a"
      },
      "source": [
        "x1 = [1,2,3]\n",
        "y1 = [2,4,1]\n",
        "plt.plot(x1, y1, label = \"line 1\")\n",
        "x2 = [1,2,3]\n",
        "y2 = [4,1,3]\n",
        "plt.plot(x2, y2, label = \"line 2\")\n",
        "plt.xlabel('x - axis')\n",
        "plt.ylabel('y - axis')\n",
        "plt.title('Two lines on same graph!')\n",
        "plt.legend()\n",
        "plt.show()"
      ],
      "id": "101144b3",
      "execution_count": null,
      "outputs": [
        {
          "output_type": "display_data",
          "data": {
            "image/png": "[encoded data removed]",
            "text/plain": [
              "<Figure size 432x288 with 1 Axes>"
            ]
          },
          "metadata": {
            "tags": []
          }
        }
      ]
    },
    {
      "cell_type": "markdown",
      "metadata": {
        "id": "ccfd604b"
      },
      "source": [
        "# Exercise 10"
      ],
      "id": "ccfd604b"
    },
    {
      "cell_type": "code",
      "metadata": {
        "id": "9ddd060c",
        "colab": {
          "base_uri": "https://localhost:8080/",
          "height": 281
        },
        "outputId": "68a78ccd-aab1-4423-801f-a21e225b7acd"
      },
      "source": [
        "# Vector origin location\n",
        "X = [0]\n",
        "Y = [0]\n",
        "import matplotlib.pyplot as plt \n",
        "# Directional vectors\n",
        "U = [2]  \n",
        "V = [1]  \n",
        "  \n",
        "plt.quiver(X, Y, U, V, color='b', units='xy', scale=1)\n",
        "plt.title('Single Vector')\n",
        "  \n",
        "plt.xlim(-2, 5)\n",
        "plt.ylim(-2, 2.5)\n",
        "  \n",
        "plt.grid()\n",
        "plt.show()"
      ],
      "id": "9ddd060c",
      "execution_count": null,
      "outputs": [
        {
          "output_type": "display_data",
          "data": {
            "image/png": "[encoded data removed]",
            "text/plain": [
              "<Figure size 432x288 with 1 Axes>"
            ]
          },
          "metadata": {
            "needs_background": "light"
          }
        }
      ]
    },
    {
      "cell_type": "code",
      "metadata": {
        "id": "7ac98356"
      },
      "source": [
        ""
      ],
      "id": "7ac98356",
      "execution_count": null,
      "outputs": []
    }
  ]
}